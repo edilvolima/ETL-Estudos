{
 "cells": [
  {
   "cell_type": "code",
   "execution_count": 15,
   "metadata": {},
   "outputs": [],
   "source": [
    "import os\n",
    "import pandas as pd\n",
    "import numpy as np\n",
    "import json\n",
    "from concurrent.futures import ThreadPoolExecutor, as_completed\n"
   ]
  },
  {
   "cell_type": "code",
   "execution_count": 16,
   "metadata": {},
   "outputs": [
    {
     "data": {
      "text/plain": [
       "1"
      ]
     },
     "execution_count": 16,
     "metadata": {},
     "output_type": "execute_result"
    }
   ],
   "source": [
    "response_74 = {\n",
    "    'resultado':[0, 1, 0, 1, 1],\n",
    "    'entidade': [[0], ['A', 'B'], [0], ['C'], ['D', 'E', 'F']],\n",
    "    'codigo_palavra': [[0], [15, 25], [0], [500], [125, 86, 15]],\n",
    "    'mensagem': ['Execucao correta do 74'],\n",
    "    'status': [200]\n",
    "}\n",
    "\n",
    "len(response_74['status'])"
   ]
  },
  {
   "cell_type": "code",
   "execution_count": 17,
   "metadata": {},
   "outputs": [
    {
     "data": {
      "text/plain": [
       "5"
      ]
     },
     "execution_count": 17,
     "metadata": {},
     "output_type": "execute_result"
    }
   ],
   "source": [
    "response_75 = {\n",
    "    'resultado':[0, 0, 1, 1, 1],\n",
    "    'entidade': [[0], [0], ['G'], ['H'], ['I', 'J', 'K']],\n",
    "    'codigo_palavra': [[0], [0], [614], [600], [600, 614, 754]],\n",
    "    'mensagem': ['Execucao correta do 75'],\n",
    "    'status': [200]\n",
    "}\n",
    "\n",
    "len(response_75)"
   ]
  },
  {
   "cell_type": "code",
   "execution_count": 18,
   "metadata": {},
   "outputs": [
    {
     "name": "stdout",
     "output_type": "stream",
     "text": [
      "10\n"
     ]
    }
   ],
   "source": [
    "dados = {\n",
    "    'PRTL': [1001, 1002, 1003, 1004, 1005, 1006, 1007, 1008, 1009, 1010],\n",
    "    'CD_CLI': [25, 30, 45, 60, 74, 54, 10, 21, 11, 36],\n",
    "    'TXT_MSG': ['Z', 'P', 'Q', 'U', 'M', 'V', 'T', 'X', 'Y', 'W']\n",
    "}\n",
    "\n",
    "corpus = pd.DataFrame(dados)\n",
    "corpus\n",
    "print(len(corpus))"
   ]
  },
  {
   "cell_type": "code",
   "execution_count": 19,
   "metadata": {},
   "outputs": [
    {
     "data": {
      "text/html": [
       "<div>\n",
       "<style scoped>\n",
       "    .dataframe tbody tr th:only-of-type {\n",
       "        vertical-align: middle;\n",
       "    }\n",
       "\n",
       "    .dataframe tbody tr th {\n",
       "        vertical-align: top;\n",
       "    }\n",
       "\n",
       "    .dataframe thead th {\n",
       "        text-align: right;\n",
       "    }\n",
       "</style>\n",
       "<table border=\"1\" class=\"dataframe\">\n",
       "  <thead>\n",
       "    <tr style=\"text-align: right;\">\n",
       "      <th></th>\n",
       "      <th>PRTL</th>\n",
       "      <th>CD_CLI</th>\n",
       "      <th>TXT_MSG</th>\n",
       "      <th>ENT</th>\n",
       "    </tr>\n",
       "  </thead>\n",
       "  <tbody>\n",
       "    <tr>\n",
       "      <th>0</th>\n",
       "      <td>1001</td>\n",
       "      <td>25</td>\n",
       "      <td>Z</td>\n",
       "      <td>{\"Entidades\": []}</td>\n",
       "    </tr>\n",
       "    <tr>\n",
       "      <th>1</th>\n",
       "      <td>1002</td>\n",
       "      <td>30</td>\n",
       "      <td>P</td>\n",
       "      <td>{\"Entidades\": []}</td>\n",
       "    </tr>\n",
       "    <tr>\n",
       "      <th>2</th>\n",
       "      <td>1003</td>\n",
       "      <td>45</td>\n",
       "      <td>Q</td>\n",
       "      <td>{\"Entidades\": []}</td>\n",
       "    </tr>\n",
       "    <tr>\n",
       "      <th>3</th>\n",
       "      <td>1004</td>\n",
       "      <td>60</td>\n",
       "      <td>U</td>\n",
       "      <td>{\"Entidades\": []}</td>\n",
       "    </tr>\n",
       "    <tr>\n",
       "      <th>4</th>\n",
       "      <td>1005</td>\n",
       "      <td>74</td>\n",
       "      <td>M</td>\n",
       "      <td>{\"Entidades\": []}</td>\n",
       "    </tr>\n",
       "    <tr>\n",
       "      <th>5</th>\n",
       "      <td>1006</td>\n",
       "      <td>54</td>\n",
       "      <td>V</td>\n",
       "      <td>{\"Entidades\": []}</td>\n",
       "    </tr>\n",
       "    <tr>\n",
       "      <th>6</th>\n",
       "      <td>1007</td>\n",
       "      <td>10</td>\n",
       "      <td>T</td>\n",
       "      <td>{\"Entidades\": []}</td>\n",
       "    </tr>\n",
       "    <tr>\n",
       "      <th>7</th>\n",
       "      <td>1008</td>\n",
       "      <td>21</td>\n",
       "      <td>X</td>\n",
       "      <td>{\"Entidades\": []}</td>\n",
       "    </tr>\n",
       "    <tr>\n",
       "      <th>8</th>\n",
       "      <td>1009</td>\n",
       "      <td>11</td>\n",
       "      <td>Y</td>\n",
       "      <td>{\"Entidades\": []}</td>\n",
       "    </tr>\n",
       "    <tr>\n",
       "      <th>9</th>\n",
       "      <td>1010</td>\n",
       "      <td>36</td>\n",
       "      <td>W</td>\n",
       "      <td>{\"Entidades\": []}</td>\n",
       "    </tr>\n",
       "  </tbody>\n",
       "</table>\n",
       "</div>"
      ],
      "text/plain": [
       "   PRTL  CD_CLI TXT_MSG                ENT\n",
       "0  1001      25       Z  {\"Entidades\": []}\n",
       "1  1002      30       P  {\"Entidades\": []}\n",
       "2  1003      45       Q  {\"Entidades\": []}\n",
       "3  1004      60       U  {\"Entidades\": []}\n",
       "4  1005      74       M  {\"Entidades\": []}\n",
       "5  1006      54       V  {\"Entidades\": []}\n",
       "6  1007      10       T  {\"Entidades\": []}\n",
       "7  1008      21       X  {\"Entidades\": []}\n",
       "8  1009      11       Y  {\"Entidades\": []}\n",
       "9  1010      36       W  {\"Entidades\": []}"
      ]
     },
     "execution_count": 19,
     "metadata": {},
     "output_type": "execute_result"
    }
   ],
   "source": [
    "coluna = 'ENT'\n",
    "corpus[coluna] = json.dumps({'Entidades': []})\n",
    "corpus"
   ]
  },
  {
   "cell_type": "code",
   "execution_count": 20,
   "metadata": {},
   "outputs": [
    {
     "name": "stdout",
     "output_type": "stream",
     "text": [
      "2\n"
     ]
    },
    {
     "name": "stderr",
     "output_type": "stream",
     "text": [
      "/home/pgmadmin/.asdf/installs/python/3.11.5/lib/python3.11/site-packages/numpy/_core/fromnumeric.py:57: FutureWarning: 'DataFrame.swapaxes' is deprecated and will be removed in a future version. Please use 'DataFrame.transpose' instead.\n",
      "  return bound(*args, **kwds)\n"
     ]
    }
   ],
   "source": [
    "def dividir_dataframe(df, num_linhas):\n",
    "    num_chunks = len(df) // num_linhas + int(len(df) % num_linhas != 0)\n",
    "    print(num_chunks)\n",
    "\n",
    "    return np.array_split(df, num_chunks)\n",
    "\n",
    "resultados = dividir_dataframe(corpus, 5)"
   ]
  },
  {
   "cell_type": "code",
   "execution_count": 21,
   "metadata": {},
   "outputs": [
    {
     "name": "stdout",
     "output_type": "stream",
     "text": [
      "\n",
      "resultado montado: \n",
      "   PRTL  CD_CLI TXT_MSG                                                ENT\n",
      "0  1001      25       Z  {\"Entidades\": [{\"indicador\": 74, \"palavras\": [...\n",
      "1  1002      30       P  {\"Entidades\": [{\"indicador\": 74, \"palavras\": [...\n",
      "2  1003      45       Q  {\"Entidades\": [{\"indicador\": 74, \"palavras\": [...\n",
      "3  1004      60       U  {\"Entidades\": [{\"indicador\": 74, \"palavras\": [...\n",
      "4  1005      74       M  {\"Entidades\": [{\"indicador\": 74, \"palavras\": [...\n",
      "5  1006      54       V  {\"Entidades\": [{\"indicador\": 74, \"palavras\": [...\n",
      "6  1007      10       T  {\"Entidades\": [{\"indicador\": 74, \"palavras\": [...\n",
      "7  1008      21       X  {\"Entidades\": [{\"indicador\": 74, \"palavras\": [...\n",
      "8  1009      11       Y  {\"Entidades\": [{\"indicador\": 74, \"palavras\": [...\n",
      "9  1010      36       W  {\"Entidades\": [{\"indicador\": 74, \"palavras\": [...\n"
     ]
    }
   ],
   "source": [
    "def inferencia_ner(chunk_, indicador_, coluna_):\n",
    "    chunk_.reset_index(drop=True, inplace=True)\n",
    "\n",
    "    # simula o resultado do requests.post\n",
    "    data_json = response_75\n",
    "    num_msg = len(chunk_)\n",
    "\n",
    "    \n",
    "    for i in range(num_msg):\n",
    "        ent_json = {\n",
    "            'indicador': indicador_,\n",
    "            'palavras': data_json['entidade'][i],\n",
    "            'cod_palavra':data_json['codigo_palavra'][i]\n",
    "        }\n",
    "        try:\n",
    "            temp = chunk_.loc[i, coluna_]\n",
    "            temp_json = json.loads(temp)\n",
    "            temp_json['Entidades'].append(ent_json)\n",
    "            chunk_.loc[i, coluna_] = json.dumps(temp_json)\n",
    "        except Exception as err:\n",
    "            print(f'Erro ao tentar inserir ent_json na linha {i}: [err]')\n",
    "        \n",
    "    return chunk_\n",
    "\n",
    "############\n",
    "workers=1\n",
    "\n",
    "\n",
    "results = []\n",
    "\n",
    "with ThreadPoolExecutor(max_workers=workers) as executor:\n",
    "    # COD 74\n",
    "    try:\n",
    "        #print(resultados[0])    \n",
    "        futures = {executor.submit(inferencia_ner, chunk, 74, coluna): chunk for chunk in resultados}\n",
    "        \n",
    "        for future in as_completed(futures):\n",
    "            try:\n",
    "                data = future.result()\n",
    "                results.append(data)\n",
    "            except Exception as exc:\n",
    "                print(f'Generated an exception: {exc}')\n",
    "        #print(f'\\nResultado total: \\n{results}\\n')\n",
    "    except Exception as err:\n",
    "        print(f'Erro fo executor: {err}')\n",
    "\n",
    "resultados = []\n",
    "resultados = results\n",
    "results = []\n",
    "\n",
    "    # COD 75\n",
    "with ThreadPoolExecutor(max_workers=workers) as executor:\n",
    "        # COD 75\n",
    "    try:\n",
    "        #print(resultados[0])    \n",
    "        futures = {executor.submit(inferencia_ner, chunk, 75, coluna): chunk for chunk in resultados}\n",
    "        \n",
    "        for future in as_completed(futures):\n",
    "            chunk = futures[future]\n",
    "            try:\n",
    "                data = future.result()\n",
    "                results.append(data)\n",
    "            except Exception as exc:\n",
    "                print(f'Generated an exception: chunk:{chunk} |\\n  {exc}')\n",
    "        #print(f'\\nResultado total: \\n{results}\\n')\n",
    "    except Exception as err:\n",
    "        print(f'Erro fo executor: {err}')\n",
    "\n",
    "resultados = []\n",
    "resultados = results\n",
    "results = []      \n",
    "        \n",
    "        \n",
    "final = pd.concat(resultados, ignore_index=True)\n",
    "print(f'\\nresultado montado: \\n{final}')\n",
    "final.to_csv('result.csv', index=False)"
   ]
  }
 ],
 "metadata": {
  "kernelspec": {
   "display_name": "Python 3",
   "language": "python",
   "name": "python3"
  },
  "language_info": {
   "codemirror_mode": {
    "name": "ipython",
    "version": 3
   },
   "file_extension": ".py",
   "mimetype": "text/x-python",
   "name": "python",
   "nbconvert_exporter": "python",
   "pygments_lexer": "ipython3",
   "version": "3.11.5"
  }
 },
 "nbformat": 4,
 "nbformat_minor": 2
}
